{
  "nbformat": 4,
  "nbformat_minor": 0,
  "metadata": {
    "colab": {
      "provenance": [],
      "authorship_tag": "ABX9TyN2Y335u2ADVhtlIb/GjaEJ",
      "include_colab_link": true
    },
    "kernelspec": {
      "name": "python3",
      "display_name": "Python 3"
    },
    "language_info": {
      "name": "python"
    }
  },
  "cells": [
    {
      "cell_type": "markdown",
      "metadata": {
        "id": "view-in-github",
        "colab_type": "text"
      },
      "source": [
        "<a href=\"https://colab.research.google.com/github/CodeWithMayank-Py/ML-Models/blob/main/File_tuning_Model.ipynb\" target=\"_parent\"><img src=\"https://colab.research.google.com/assets/colab-badge.svg\" alt=\"Open In Colab\"/></a>"
      ]
    },
    {
      "cell_type": "code",
      "execution_count": null,
      "metadata": {
        "id": "anF3PvBejn-t"
      },
      "outputs": [],
      "source": [
        "import tensorflow as tf"
      ]
    },
    {
      "cell_type": "code",
      "source": [
        "model = tf.keras.applications.VGG16(\n",
        "    include_top=True,\n",
        "    weights=\"imagenet\",\n",
        "    input_tensor = None,\n",
        "    input_shape=None,\n",
        "    pooling=None,\n",
        "    classes=1000,\n",
        "    classifier_activation=\"softmax\",\n",
        ")"
      ],
      "metadata": {
        "id": "k1fZdF_8j_i2"
      },
      "execution_count": null,
      "outputs": []
    },
    {
      "cell_type": "code",
      "source": [
        "!wget -O \"images.png\" \"https://w7.pngwing.com/pngs/808/21/png-transparent-goat-sheep-cartoon-goat-mammal-animals-cow-goat-family-thumbnail.png\""
      ],
      "metadata": {
        "colab": {
          "base_uri": "https://localhost:8080/"
        },
        "id": "rWsOAETvkidO",
        "outputId": "18be8ea0-2f80-4a14-84e1-152c4188597f"
      },
      "execution_count": null,
      "outputs": [
        {
          "output_type": "stream",
          "name": "stdout",
          "text": [
            "--2023-10-13 06:27:11--  https://w7.pngwing.com/pngs/808/21/png-transparent-goat-sheep-cartoon-goat-mammal-animals-cow-goat-family-thumbnail.png\n",
            "Resolving w7.pngwing.com (w7.pngwing.com)... 104.21.73.185, 172.67.165.106, 2606:4700:3035::ac43:a56a, ...\n",
            "Connecting to w7.pngwing.com (w7.pngwing.com)|104.21.73.185|:443... connected.\n",
            "HTTP request sent, awaiting response... 200 OK\n",
            "Length: 16684 (16K) [image/png]\n",
            "Saving to: ‘images.png’\n",
            "\n",
            "images.png          100%[===================>]  16.29K  --.-KB/s    in 0s      \n",
            "\n",
            "2023-10-13 06:27:11 (78.6 MB/s) - ‘images.png’ saved [16684/16684]\n",
            "\n"
          ]
        }
      ]
    },
    {
      "cell_type": "code",
      "source": [
        "sample_img = tf.keras.utils.load_img(\n",
        "    \"/content/images.png\",\n",
        "    grayscale=False,\n",
        "    color_mode=\"rgb\",\n",
        "    target_size=(224, 224),\n",
        "    interpolation='nearest',\n",
        "    keep_aspect_ratio=False\n",
        ")"
      ],
      "metadata": {
        "id": "I-LAtJ4FmNYd"
      },
      "execution_count": null,
      "outputs": []
    },
    {
      "cell_type": "code",
      "source": [
        "sample_img.size"
      ],
      "metadata": {
        "colab": {
          "base_uri": "https://localhost:8080/"
        },
        "id": "gggTDNtHoMJX",
        "outputId": "1476eb9f-c606-4922-aa1b-4995089f3400"
      },
      "execution_count": null,
      "outputs": [
        {
          "output_type": "execute_result",
          "data": {
            "text/plain": [
              "(224, 224)"
            ]
          },
          "metadata": {},
          "execution_count": 33
        }
      ]
    },
    {
      "cell_type": "code",
      "source": [
        "type(sample_img)"
      ],
      "metadata": {
        "colab": {
          "base_uri": "https://localhost:8080/"
        },
        "id": "icAiFrJapk9k",
        "outputId": "adacfcfe-bb99-434b-f8f1-edc16f2bcb78"
      },
      "execution_count": null,
      "outputs": [
        {
          "output_type": "execute_result",
          "data": {
            "text/plain": [
              "PIL.Image.Image"
            ]
          },
          "metadata": {},
          "execution_count": 34
        }
      ]
    },
    {
      "cell_type": "code",
      "source": [
        "sample_img"
      ],
      "metadata": {
        "colab": {
          "base_uri": "https://localhost:8080/",
          "height": 241
        },
        "id": "vNSbtpx9oVfQ",
        "outputId": "5c42ccf5-2c67-4b47-cd5a-61836c920d7f"
      },
      "execution_count": null,
      "outputs": [
        {
          "output_type": "execute_result",
          "data": {
            "text/plain": [
              "<PIL.Image.Image image mode=RGB size=224x224>"
            ],
            "image/png": "[encoded data removed]"
          },
          "metadata": {},
          "execution_count": 35
        }
      ]
    },
    {
      "cell_type": "code",
      "source": [
        "sample_img_array = tf.keras.utils.img_to_array(sample_img)"
      ],
      "metadata": {
        "id": "r50rKVDNpzfq"
      },
      "execution_count": null,
      "outputs": []
    },
    {
      "cell_type": "code",
      "source": [
        "type(sample_img_array)"
      ],
      "metadata": {
        "colab": {
          "base_uri": "https://localhost:8080/"
        },
        "id": "nWt9atVzqZ5H",
        "outputId": "36279af9-7f5c-45c4-877b-9d3927b0bf84"
      },
      "execution_count": null,
      "outputs": [
        {
          "output_type": "execute_result",
          "data": {
            "text/plain": [
              "numpy.ndarray"
            ]
          },
          "metadata": {},
          "execution_count": 37
        }
      ]
    },
    {
      "cell_type": "code",
      "source": [
        "sample_img_array.shape"
      ],
      "metadata": {
        "colab": {
          "base_uri": "https://localhost:8080/"
        },
        "id": "WnJTBlMGqcRM",
        "outputId": "5a84f103-692a-41c6-a7ef-93740c1efde5"
      },
      "execution_count": null,
      "outputs": [
        {
          "output_type": "execute_result",
          "data": {
            "text/plain": [
              "(224, 224, 3)"
            ]
          },
          "metadata": {},
          "execution_count": 38
        }
      ]
    },
    {
      "cell_type": "code",
      "source": [
        "img_array = tf.expand_dims(sample_img_array, axis=0)"
      ],
      "metadata": {
        "id": "W8F6L7_NqiT8"
      },
      "execution_count": null,
      "outputs": []
    },
    {
      "cell_type": "code",
      "source": [
        "img_array.shape"
      ],
      "metadata": {
        "colab": {
          "base_uri": "https://localhost:8080/"
        },
        "id": "1rB6XE4Mq42U",
        "outputId": "0baad26a-c397-47c0-8fe2-4b4196803a53"
      },
      "execution_count": null,
      "outputs": [
        {
          "output_type": "execute_result",
          "data": {
            "text/plain": [
              "TensorShape([1, 224, 224, 3])"
            ]
          },
          "metadata": {},
          "execution_count": 40
        }
      ]
    },
    {
      "cell_type": "code",
      "source": [
        "processed_img_batch = tf.keras.applications.vgg16.preprocess_input(img_array)"
      ],
      "metadata": {
        "id": "3rHLBqdwq9bG"
      },
      "execution_count": null,
      "outputs": []
    },
    {
      "cell_type": "code",
      "source": [
        "prediction = model(processed_img_batch)"
      ],
      "metadata": {
        "id": "ZizYvv82sjBC"
      },
      "execution_count": null,
      "outputs": []
    },
    {
      "cell_type": "code",
      "source": [
        "decoded_predictions = tf.keras.applications.vgg16.decode_predictions(prediction.numpy(), top=5)"
      ],
      "metadata": {
        "id": "ZiaIGfrFtDho"
      },
      "execution_count": null,
      "outputs": []
    },
    {
      "cell_type": "code",
      "source": [
        "decoded_predictions"
      ],
      "metadata": {
        "colab": {
          "base_uri": "https://localhost:8080/"
        },
        "id": "Q_7kFFe0uKSj",
        "outputId": "a7a5a6b2-6488-475a-a786-6fc522afff11"
      },
      "execution_count": null,
      "outputs": [
        {
          "output_type": "execute_result",
          "data": {
            "text/plain": [
              "[[('n02085620', 'Chihuahua', 0.13271958),\n",
              "  ('n03944341', 'pinwheel', 0.097586535),\n",
              "  ('n03724870', 'mask', 0.06373484),\n",
              "  ('n04116512', 'rubber_eraser', 0.060953878),\n",
              "  ('n02123597', 'Siamese_cat', 0.03850044)]]"
            ]
          },
          "metadata": {},
          "execution_count": 47
        }
      ]
    },
    {
      "cell_type": "code",
      "source": [
        "for prediction in decoded_predictions[0]:\n",
        "  print(f\"I think the given image is of {prediction[1]} (class code: {prediction[0]}) with\",\n",
        "        f\"probability of {prediction[2]*100}\")"
      ],
      "metadata": {
        "colab": {
          "base_uri": "https://localhost:8080/"
        },
        "id": "vU4t38GhvJtl",
        "outputId": "b22b32b0-c6d6-422d-f04e-3d2546801ad7"
      },
      "execution_count": null,
      "outputs": [
        {
          "output_type": "stream",
          "name": "stdout",
          "text": [
            "I think the given image is of Chihuahua (class code: n02085620) with probability of 13.271957635879517\n",
            "I think the given image is of pinwheel (class code: n03944341) with probability of 9.758653491735458\n",
            "I think the given image is of mask (class code: n03724870) with probability of 6.3734836876392365\n",
            "I think the given image is of rubber_eraser (class code: n04116512) with probability of 6.095387786626816\n",
            "I think the given image is of Siamese_cat (class code: n02123597) with probability of 3.850043937563896\n"
          ]
        }
      ]
    },
    {
      "cell_type": "code",
      "source": [],
      "metadata": {
        "id": "K1flodgSwk-E"
      },
      "execution_count": null,
      "outputs": []
    }
  ]
}